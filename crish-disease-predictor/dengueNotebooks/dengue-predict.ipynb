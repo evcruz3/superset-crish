{
 "cells": [
  {
   "cell_type": "code",
   "execution_count": 1,
   "id": "f9197e97-4dda-43a7-86df-fd573dfbde62",
   "metadata": {
    "tags": []
   },
   "outputs": [],
   "source": [
    "import pandas as pd\n",
    "import numpy as np\n",
    "import tensorflow as tf\n",
    "keras = tf.keras\n",
    "import joblib\n",
    "# from sklearn.preprocessing import StandardScaler,RobustScaler,MinMaxScaler,MaxAbsScaler,PowerTransformer,Normalizer"
   ]
  },
  {
   "cell_type": "code",
   "execution_count": 2,
   "id": "3cead1d6-bb99-45f7-be32-9b280f8fb6f8",
   "metadata": {
    "tags": []
   },
   "outputs": [],
   "source": [
    "# predictive_area = 'Dili'\n",
    "predictive_area = 'Aileu'\n",
    "# predictive_area = 'Baucau'"
   ]
  },
  {
   "cell_type": "code",
   "execution_count": 3,
   "id": "96d14769-67de-45d9-adb2-a240e3b7148a",
   "metadata": {
    "tags": []
   },
   "outputs": [],
   "source": [
    "# population_census = pd.read_excel('../datasets/population_data/all_population_census.xlsx')\n",
    "# population_census.head()"
   ]
  },
  {
   "cell_type": "code",
   "execution_count": 7,
   "id": "eb5d458d-c91e-4764-a99d-9d6f377d88d5",
   "metadata": {
    "tags": []
   },
   "outputs": [],
   "source": [
    "# population_of_predictive_area = population_census[['Population_2022']].where(population_census.Name==predictive_area).dropna().values[0][0]\n",
    "# population_of_predictive_area"
   ]
  },
  {
   "cell_type": "code",
   "execution_count": 5,
   "id": "e80966d3-24d3-4773-a152-01df63769305",
   "metadata": {
    "tags": []
   },
   "outputs": [
    {
     "name": "stderr",
     "output_type": "stream",
     "text": [
      "WARNING:absl:Compiled the loaded model, but the compiled metrics have yet to be built. `model.compile_metrics` will be empty until you train or evaluate the model.\n"
     ]
    }
   ],
   "source": [
    "loaded_model = keras.models.load_model(f'../dengueModels/{predictive_area}.h5')\n",
    "scaler = joblib.load(f'../dengueModels/{predictive_area}_minmax_scaler.pkl')"
   ]
  },
  {
   "cell_type": "code",
   "execution_count": 6,
   "id": "d20512b6-5d24-43e4-b052-5f5122e83e3e",
   "metadata": {
    "tags": []
   },
   "outputs": [
    {
     "name": "stdout",
     "output_type": "stream",
     "text": [
      "\u001b[1m1/1\u001b[0m \u001b[32m━━━━━━━━━━━━━━━━━━━━\u001b[0m\u001b[37m\u001b[0m \u001b[1m0s\u001b[0m 99ms/step\n",
      "[9.30522615]\n"
     ]
    },
    {
     "name": "stderr",
     "output_type": "stream",
     "text": [
      "/Volumes/DEV/anaconda3/envs/geoEnvironment/lib/python3.11/site-packages/sklearn/base.py:439: UserWarning: X does not have valid feature names, but MinMaxScaler was fitted with feature names\n",
      "  warnings.warn(\n"
     ]
    }
   ],
   "source": [
    "\n",
    " ###For Area : Aileu\n",
    "    \n",
    "    \n",
    "# predict_this = np.array(\n",
    "#     [\n",
    "#     [0,23.921159,23.430950,23.028070,0.036733,80.549220,76.843015,71.154974],\n",
    "#     [0,23.921159,23.430950,23.028070,0.036733,80.549220,76.843015,71.154974],\n",
    "#     [0,24.055259,23.530455,23.112397,0.804723,88.141237,83.305121,74.189160],\n",
    "#     [0,23.802101,23.459860,23.084227,0.137142,83.862813,79.684833,74.770207]\n",
    "#     ]\n",
    "# )\n",
    "\n",
    "\n",
    "predict_this = np.array(\n",
    "    [\n",
    "    [23,22.889473,21.762285,20.900235,3.034283,94.693528,91.916714,84.928707],\n",
    "    [11,24.128522,23.639735,23.137594,0.438402,86.992083,83.694489,80.605879],\n",
    "    [11,23.677738,22.983578,22.383734,0.693362,93.114497,89.340948,83.598811],\n",
    "    [11,24.044160,23.418273,22.578321,1.426716,90.968355,87.033135,81.200460]\n",
    "    ]\n",
    ")\n",
    "\n",
    "# predict_this = np.array(\n",
    "#     [\n",
    "#     [11,24.044160,23.418273,22.578321,1.426716,90.968355,87.033135,81.200460],\n",
    "#     [7,23.743487,23.285990,22.640044,0.946284,90.476206,85.974546,80.902154],\n",
    "#     [0,23.523977,23.056495,22.554423,1.704382,90.046266,83.585790,77.855216],\n",
    "#     [1,23.977528,23.580371,23.023461,0.112509,81.142155,76.488830,70.154901]\n",
    "#     ]\n",
    "# )\n",
    "\n",
    "# predict_this = np.array(\n",
    "#     [\n",
    "#     [0,24.045811,23.286306,22.908842,1.892039,88.871719,85.796390,83.415334],\n",
    "#     [0,24.509613,23.686646,22.787393,0.382810,88.657539,86.083248,83.412962],\n",
    "#     [3,24.201385,22.762871,21.483954,1.511658,93.727231,87.541150,79.424727],\n",
    "#     [0,23.996361,23.588784,23.285733,0.393293,85.671921,83.588823,81.047712]\n",
    "#     ]\n",
    "# )\n",
    "\n",
    "\n",
    "\n",
    "# predict_this = np.array(\n",
    "#     [\n",
    "#     [13,23.829436,23.194382,22.701263,0.543379,89.819599,85.920845,81.656165],\n",
    "#     [0,23.068814,22.706560,22.312647,2.110770,93.444644,90.256631,88.067721],\n",
    "#     [21,23.639826,23.230757,22.414758,0.409357,88.354242,84.818255,77.928622],\n",
    "#     [23,22.889473,21.762285,20.900235,3.034283,94.693528,91.916714,84.928707]\n",
    "#     ]\n",
    "# )\n",
    "\n",
    "\n",
    "\n",
    " ###For Area : Dili\n",
    "    \n",
    "# 6\tDili\t7\t\n",
    "# 7\tDili\t8\t\n",
    "# 8\tDili\t9\t\n",
    "# 9\tDili\t10\t\n",
    "    \n",
    "\n",
    "# predict_this = np.array(\n",
    "#     [\n",
    "#     [0,27.325770,26.702104,26.061709,0.917724,86.827135,83.754811,82.078480],\n",
    "#     [8,27.051726,26.598406,26.077807,0.875958,85.793965,83.570888,81.946781],\n",
    "#     [0,27.457267,26.777259,26.117959,0.757493,88.107560,84.908926,82.028598],\n",
    "#     [0,27.231562,26.678220,26.213742,0.357193,86.871030,84.653090,82.013794]\n",
    "#     ]\n",
    "# )\n",
    "\n",
    "\n",
    "\n",
    "# 11\tDili\t12\t\n",
    "# 12\tDili\t13\t\n",
    "# 13\tDili\t14\t\n",
    "# 14\tDili\t15\t\n",
    "\n",
    "# predict_this = np.array(\n",
    "#     [\n",
    "#     [5,27.002306,26.439033,25.805845,0.742425,87.343561,82.400927,78.413704],\n",
    "#     [2,26.830126,26.413743,25.976171,0.572783,86.464288,82.769652,78.606820],\n",
    "#     [3,27.759531,27.192215,26.836412,0.346751,82.642900,79.562295,75.027106],\n",
    "#     [3,26.940597,26.329170,25.676264,1.533311,85.581360,82.924479,80.217623]\n",
    "#     ]\n",
    "# )\n",
    "\n",
    "\n",
    " ###For Area : Baucau\n",
    "\n",
    "# 0\tBaucau\t1\t\n",
    "# 1\tBaucau\t2\t\n",
    "# 2\tBaucau\t3\t\n",
    "# 3\tBaucau\t4\t\n",
    "\n",
    "# predict_this = np.array(\n",
    "#     [\n",
    "#     [9,26.541247,25.975468,25.439122,1.241866,88.471053,85.501658,83.021307],\n",
    "#     [6,26.755161,26.154822,25.461551,0.482777,87.914255,85.425244,83.071403],\n",
    "#     [8,26.526737,25.432341,24.319890,1.269278,92.312832,88.128208,84.436129],\n",
    "#     [9,26.346436,26.072834,25.636438,0.324280,88.448655,85.523797,83.383985]\n",
    "#     ]\n",
    "# )\n",
    "\n",
    "\n",
    "no_of_features = len(predict_this[0])\n",
    "\n",
    "\n",
    "# print(predict_this.shape)\n",
    "predict_this_scaled = scaler.transform(predict_this)\n",
    "predict_this_reshaped = predict_this_scaled.reshape(1,4,no_of_features)\n",
    "scaled_prediction  = loaded_model.predict(predict_this_reshaped)\n",
    "# print(scaled_prediction)\n",
    "predicted_real = scaler.inverse_transform(np.concatenate((scaled_prediction.reshape(-1, 1), np.zeros((scaled_prediction.shape[0], no_of_features-1))), axis=1))[:, 0]\n",
    "print(predicted_real)"
   ]
  }
 ],
 "metadata": {
  "kernelspec": {
   "display_name": "geoEnvironment",
   "language": "python",
   "name": "geoenvironment"
  },
  "language_info": {
   "codemirror_mode": {
    "name": "ipython",
    "version": 3
   },
   "file_extension": ".py",
   "mimetype": "text/x-python",
   "name": "python",
   "nbconvert_exporter": "python",
   "pygments_lexer": "ipython3",
   "version": "3.11.8"
  }
 },
 "nbformat": 4,
 "nbformat_minor": 5
}
