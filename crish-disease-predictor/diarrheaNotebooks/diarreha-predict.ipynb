{
 "cells": [
  {
   "cell_type": "code",
   "execution_count": 1,
   "id": "f9197e97-4dda-43a7-86df-fd573dfbde62",
   "metadata": {
    "tags": []
   },
   "outputs": [],
   "source": [
    "import pandas as pd\n",
    "import numpy as np\n",
    "import tensorflow as tf\n",
    "keras = tf.keras\n",
    "import joblib\n",
    "# from sklearn.preprocessing import StandardScaler,RobustScaler,MinMaxScaler,MaxAbsScaler,PowerTransformer,Normalizer"
   ]
  },
  {
   "cell_type": "code",
   "execution_count": 2,
   "id": "3cead1d6-bb99-45f7-be32-9b280f8fb6f8",
   "metadata": {
    "tags": []
   },
   "outputs": [],
   "source": [
    "# predictive_area = 'Dili'\n",
    "predictive_area = 'Aileu'\n",
    "# predictive_area = 'Baucau'"
   ]
  },
  {
   "cell_type": "code",
   "execution_count": 3,
   "id": "96d14769-67de-45d9-adb2-a240e3b7148a",
   "metadata": {
    "tags": []
   },
   "outputs": [],
   "source": [
    "population_census = pd.read_excel('../datasets/population_data/all_population_census.xlsx')\n",
    "# population_census.head()"
   ]
  },
  {
   "cell_type": "code",
   "execution_count": 4,
   "id": "eb5d458d-c91e-4764-a99d-9d6f377d88d5",
   "metadata": {
    "tags": []
   },
   "outputs": [],
   "source": [
    "population_of_predictive_area = population_census[['Population_2022']].where(population_census.Name==predictive_area).dropna().values[0][0]\n",
    "# population_of_predictive_area"
   ]
  },
  {
   "cell_type": "code",
   "execution_count": 5,
   "id": "e80966d3-24d3-4773-a152-01df63769305",
   "metadata": {
    "tags": []
   },
   "outputs": [
    {
     "name": "stderr",
     "output_type": "stream",
     "text": [
      "WARNING:absl:Compiled the loaded model, but the compiled metrics have yet to be built. `model.compile_metrics` will be empty until you train or evaluate the model.\n"
     ]
    }
   ],
   "source": [
    "loaded_model = keras.models.load_model(f'../diarrehaModels/{predictive_area}.h5')\n",
    "scaler = joblib.load(f'../diarrehaModels/{predictive_area}_minmax_scaler.pkl')"
   ]
  },
  {
   "cell_type": "code",
   "execution_count": 6,
   "id": "d20512b6-5d24-43e4-b052-5f5122e83e3e",
   "metadata": {
    "tags": []
   },
   "outputs": [
    {
     "name": "stdout",
     "output_type": "stream",
     "text": [
      "\u001b[1m1/1\u001b[0m \u001b[32m━━━━━━━━━━━━━━━━━━━━\u001b[0m\u001b[37m\u001b[0m \u001b[1m0s\u001b[0m 100ms/step\n",
      "[43.67525269]\n"
     ]
    },
    {
     "name": "stderr",
     "output_type": "stream",
     "text": [
      "/Volumes/DEV/anaconda3/envs/geoEnvironment/lib/python3.11/site-packages/sklearn/base.py:439: UserWarning: X does not have valid feature names, but MinMaxScaler was fitted with feature names\n",
      "  warnings.warn(\n"
     ]
    }
   ],
   "source": [
    "\n",
    "\n",
    " ###For Area : Aileu\n",
    "    \n",
    "# Week 1,2,3,4\n",
    "predict_this = np.array(\n",
    "    [\n",
    "    [70,24.045811,23.286306,22.908842,1.892039,88.871719,85.796390,83.415334],\n",
    "    [72,24.509613,23.686646,22.787393,0.382810,88.657539,86.083248,83.412962],\n",
    "    [202,24.201385,22.762871,21.483954,1.511658,93.727231,87.541150,79.424727],\n",
    "    [220,23.996361,23.588784,23.285733,0.393293,85.671921,83.588823,81.047712]\n",
    "    ]\n",
    ")\n",
    "\n",
    "\n",
    "# Week 8,9,10,11\n",
    "# predict_this = np.array(\n",
    "#     [\n",
    "#     [152,22.889473,21.762285,20.900235,3.034283,94.693528,91.916714,84.928707],\n",
    "#     [121,24.128522,23.639735,23.137594,0.438402,86.992083,83.694489,80.605879],\n",
    "#     [109,23.677738,22.983578,22.383734,0.693362,93.114497,89.340948,83.598811],\n",
    "#     [112,24.044160,23.418273,22.578321,1.426716,90.968355,87.033135,81.200460]\n",
    "#     ]\n",
    "# )\n",
    "\n",
    "\n",
    "# predict_this = np.array(\n",
    "#     [\n",
    "#     [11,24.044160,23.418273,22.578321,1.426716,90.968355,87.033135,81.200460],\n",
    "#     [7,23.743487,23.285990,22.640044,0.946284,90.476206,85.974546,80.902154],\n",
    "#     [0,23.523977,23.056495,22.554423,1.704382,90.046266,83.585790,77.855216],\n",
    "#     [1,23.977528,23.580371,23.023461,0.112509,81.142155,76.488830,70.154901]\n",
    "#     ]\n",
    "# )\n",
    "\n",
    "# predict_this = np.array(\n",
    "#     [\n",
    "#     [0,24.045811,23.286306,22.908842,1.892039,88.871719,85.796390,83.415334],\n",
    "#     [0,24.509613,23.686646,22.787393,0.382810,88.657539,86.083248,83.412962],\n",
    "#     [3,24.201385,22.762871,21.483954,1.511658,93.727231,87.541150,79.424727],\n",
    "#     [0,23.996361,23.588784,23.285733,0.393293,85.671921,83.588823,81.047712]\n",
    "#     ]\n",
    "# )\n",
    "\n",
    "\n",
    "\n",
    "# predict_this = np.array(\n",
    "#     [\n",
    "#     [13,23.829436,23.194382,22.701263,0.543379,89.819599,85.920845,81.656165],\n",
    "#     [0,23.068814,22.706560,22.312647,2.110770,93.444644,90.256631,88.067721],\n",
    "#     [21,23.639826,23.230757,22.414758,0.409357,88.354242,84.818255,77.928622],\n",
    "#     [23,22.889473,21.762285,20.900235,3.034283,94.693528,91.916714,84.928707]\n",
    "#     ]\n",
    "# )\n",
    "\n",
    "\n",
    "\n",
    "no_of_features = len(predict_this[0])\n",
    "\n",
    "\n",
    "# print(predict_this.shape)\n",
    "predict_this_scaled = scaler.transform(predict_this)\n",
    "predict_this_reshaped = predict_this_scaled.reshape(1,4,no_of_features)\n",
    "scaled_prediction  = loaded_model.predict(predict_this_reshaped)\n",
    "# print(scaled_prediction)\n",
    "predicted_real = scaler.inverse_transform(np.concatenate((scaled_prediction.reshape(-1, 1), np.zeros((scaled_prediction.shape[0], no_of_features-1))), axis=1))[:, 0]\n",
    "print(predicted_real)"
   ]
  }
 ],
 "metadata": {
  "kernelspec": {
   "display_name": "geoEnvironment",
   "language": "python",
   "name": "geoenvironment"
  },
  "language_info": {
   "codemirror_mode": {
    "name": "ipython",
    "version": 3
   },
   "file_extension": ".py",
   "mimetype": "text/x-python",
   "name": "python",
   "nbconvert_exporter": "python",
   "pygments_lexer": "ipython3",
   "version": "3.11.8"
  }
 },
 "nbformat": 4,
 "nbformat_minor": 5
}
